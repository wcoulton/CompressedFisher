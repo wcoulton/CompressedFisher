{
 "cells": [
  {
   "cell_type": "code",
   "execution_count": 1,
   "id": "8e278020",
   "metadata": {},
   "outputs": [],
   "source": [
    "%load_ext autoreload\n",
    "%autoreload 2"
   ]
  },
  {
   "cell_type": "code",
   "execution_count": 2,
   "id": "a9e8d631",
   "metadata": {},
   "outputs": [],
   "source": [
    "import numpy as np \n",
    "import matplotlib.pyplot as plt\n",
    "import CompressedFisher"
   ]
  },
  {
   "cell_type": "code",
   "execution_count": 3,
   "id": "970db0f1",
   "metadata": {},
   "outputs": [],
   "source": []
  },
  {
   "cell_type": "code",
   "execution_count": null,
   "id": "94f794ca",
   "metadata": {},
   "outputs": [],
   "source": []
  },
  {
   "cell_type": "code",
   "execution_count": null,
   "id": "b51eef8e",
   "metadata": {},
   "outputs": [],
   "source": []
  },
  {
   "cell_type": "markdown",
   "id": "32327f27",
   "metadata": {},
   "source": [
    "# A set of routines that define the toy model\n",
    "\n",
    "We consider nKs points, at positions $k$, from a poisson distribution with rate, $\\mu(\\mathbf{k})$, given by\n",
    "\\begin{align}\n",
    "\\mu(\\mathbf{k}) = \\alpha+\\beta k + \\gamma \\sqrt{k}\n",
    "\\end{align}"
   ]
  },
  {
   "cell_type": "code",
   "execution_count": 67,
   "id": "5da9e19e",
   "metadata": {},
   "outputs": [],
   "source": [
    "# Define number and location of points\n",
    "nKs = 100\n",
    "ks = 10**np.linspace(-4,0,nKs)\n",
    "\n",
    "\n",
    "def muk_theory(ks,params):\n",
    "    \"\"\"\n",
    "    Evalute the toy model for the rate of the Poisson process at a set of positiosn\n",
    "    \n",
    "    Args:\n",
    "        ks ([array of floats]): ks at which to evaluate the model\n",
    "        params ([array of floats]): The values of the parameters to \n",
    "    Returns:\n",
    "        [array of shape [nks]]: The poisson rate at the requested values \n",
    "    \"\"\"\n",
    "\n",
    "    alpha,beta,gamma= params\n",
    "    return alpha+beta*ks+gamma*ks**.5\n",
    "\n",
    "\n",
    "\n",
    "def generateSims(params,nSims=1):\n",
    "    \"\"\"\n",
    "    Generate draw realizations from the toy model with the given set of parameters\n",
    "    \n",
    "    Args:\n",
    "        params ([list floats]): The values of the parameters values to draw realizations at.\n",
    "        nSims (ind): The number of sims to generate (default: `1`)\n",
    "    Returns:\n",
    "        [array ]: The poisson rate\n",
    "    \"\"\"\n",
    "\n",
    "\n",
    "    pk_mu = muk_theory(ks,params)\n",
    "    return np.array([np.random.poisson(pk,nSims) for pk in pk_mu]).T\n",
    "\n",
    "\n",
    "\n",
    "def generate_deriv_sims(parameter_names,params,deltaParams,nSims):\n",
    "    \"\"\"\n",
    "    Generates simulations for use as finite difference derivatives.\n",
    "    These are central finite differences, ths for each parameter \n",
    "    simulations are generated at $\\theta\\pm \\delta\\theta$.\n",
    "    \n",
    "    Args:\n",
    "        parameter_names ([list of names]): the names of the parameters\n",
    "        params ([array]): the values of the parameters about which to compute the derivatives\n",
    "        deltaParams ([array]): The parameter step size\n",
    "        nSims ([int]): The number of simulations\n",
    "    \n",
    "    Returns:\n",
    "        [dictionary]: The simulations for computing the derivates.  Each entry in the dicitonary \n",
    "                      is an array of size [2,nParams,nKs]. \n",
    "                    \n",
    "    \"\"\"\n",
    "    deriv_sims = {}\n",
    "    \n",
    "    for i,name in enumerate(parameter_names):\n",
    "        derivs_ens = np.zeros([2,nSims,nKs])\n",
    "        params_plus = np.array(params)\n",
    "        params_plus[i]+=deltaParams[i]\n",
    "        \n",
    "        params_minus = np.array(params)\n",
    "        params_minus[i]-=deltaParams[i]\n",
    "        \n",
    "        derivs_ens[0] = generateSims(params_minus,nSims)  \n",
    "        derivs_ens[1] = generateSims(params_plus,nSims)\n",
    "        deriv_sims[name] = derivs_ens\n",
    "    return deriv_sims\n",
    "\n",
    "\n",
    "\n",
    "\n",
    "\"\"\"\n",
    "For this toy model we can compute the true Fisher information analytically.\n",
    "\"\"\" \n",
    "\n",
    "\n",
    "def theoretical_derivs(params):\n",
    "    \"\"\"\n",
    "    Computes the derivatives analytical\n",
    "    \n",
    "    Args:\n",
    "        params ([array]): The values where the derivatives are to be evaluated\n",
    "    \n",
    "    Returns:\n",
    "         an array of shape [3,nKs] : The derivatives for the 3 parameters\n",
    "    \"\"\"\n",
    "    pk_mu = muk_theory(ks,params)\n",
    "    nParams = len(params)\n",
    "    derivs_thry = np.zeros([nParams,nKs])\n",
    "    derivs_thry[0] = np.ones(nKs)\n",
    "    derivs_thry[1] = ks.copy()\n",
    "    derivs_thry[2] = np.sqrt(ks)\n",
    "    return derivs_thry\n",
    "\n",
    "def fisherInformationTheory(params):\n",
    "    \"\"\"\n",
    "    Compute the exact Fisher informations\n",
    "    \n",
    "    Args:\n",
    "        params ([array]): The values where the Fisher information are to be evaluated\n",
    "    \n",
    "    Returns:\n",
    "        [matrix nParams x nParams]: The analytical Fisher information (i.e. the `truth')\n",
    "    \"\"\"\n",
    "    derivs = theoretical_derivs(params)\n",
    "    nParams = len(params)\n",
    "    mu = muk_theory(ks,params)\n",
    "    fisher = np.zeros([nParams,nParams])\n",
    "    for i in range(nParams):\n",
    "        for j in range(i+1):\n",
    "            tmp = np.sum(derivs[i]*derivs[j]/mu)\n",
    "            fisher[i,j] = fisher[j,i] = tmp\n",
    "    return fisher"
   ]
  },
  {
   "cell_type": "code",
   "execution_count": null,
   "id": "286bdb31",
   "metadata": {},
   "outputs": [],
   "source": []
  },
  {
   "cell_type": "code",
   "execution_count": null,
   "id": "b1b54d26",
   "metadata": {},
   "outputs": [],
   "source": []
  },
  {
   "cell_type": "code",
   "execution_count": null,
   "id": "a4c1e0f3",
   "metadata": {},
   "outputs": [],
   "source": []
  },
  {
   "cell_type": "markdown",
   "id": "636b3b78",
   "metadata": {},
   "source": [
    "# Set the fiducial parameter values and parameter step sizes"
   ]
  },
  {
   "cell_type": "code",
   "execution_count": 52,
   "id": "8ef33d38",
   "metadata": {},
   "outputs": [],
   "source": [
    "params_fid = np.array([1,1,1.])\n",
    "delta_params = np.array([.05,.05,.05,])\n",
    "parameter_names = [r\"$\\alpha$\", r\"$\\beta$\", r\"$\\gamma$\"]\n",
    "dict_param_steps = {parameter_names[i]:delta_params[i] for i in range(len(params_fid))}"
   ]
  },
  {
   "cell_type": "markdown",
   "id": "f1f8e127",
   "metadata": {},
   "source": [
    "# Specify the number of simulations to use to estimate the mean and covariance"
   ]
  },
  {
   "cell_type": "code",
   "execution_count": 53,
   "id": "cb746697",
   "metadata": {},
   "outputs": [],
   "source": [
    "nSimsCovMat = 20000\n",
    "nSims_deriv = 400000"
   ]
  },
  {
   "cell_type": "code",
   "execution_count": null,
   "id": "330be52d",
   "metadata": {},
   "outputs": [],
   "source": []
  },
  {
   "cell_type": "markdown",
   "id": "f7f95384",
   "metadata": {},
   "source": [
    "# Evaluate the true fisher information"
   ]
  },
  {
   "cell_type": "code",
   "execution_count": 54,
   "id": "383f585a",
   "metadata": {},
   "outputs": [
    {
     "name": "stdout",
     "output_type": "stream",
     "text": [
      "[[81.56791613  5.47697572 12.95510815]\n",
      " [ 5.47697572  2.41918403  3.35935472]\n",
      " [12.95510815  3.35935472  5.47697572]]\n"
     ]
    }
   ],
   "source": [
    "\n",
    "fisher_true = fisherInformationTheory(params_fid)\n",
    "print(fisher_true)"
   ]
  },
  {
   "cell_type": "markdown",
   "id": "734aac7b",
   "metadata": {},
   "source": [
    "# Specifcy the fraction of simulations to be used to compute the compression (the remainder are used to evaluate the compressed Fisher information)"
   ]
  },
  {
   "cell_type": "code",
   "execution_count": 55,
   "id": "22e93f46",
   "metadata": {},
   "outputs": [],
   "source": [
    "compress_frac_split = 0.5"
   ]
  },
  {
   "cell_type": "markdown",
   "id": "82dbddcb",
   "metadata": {},
   "source": [
    "# Generate our mock data\n",
    "## Simulations for estimating the variances and simulates simulations for estimating finite difference derivatives"
   ]
  },
  {
   "cell_type": "code",
   "execution_count": 56,
   "id": "15ca591b",
   "metadata": {},
   "outputs": [],
   "source": [
    "\n",
    "covmat_sims = generateSims(params_fid,nSimsCovMat)\n",
    "dict_deriv_sims = generate_deriv_sims(parameter_names,params_fid,delta_params,nSims=nSims_deriv)"
   ]
  },
  {
   "cell_type": "code",
   "execution_count": null,
   "id": "d96ccf9f",
   "metadata": {},
   "outputs": [],
   "source": []
  },
  {
   "cell_type": "markdown",
   "id": "ea717b32",
   "metadata": {},
   "source": [
    "# Initialize a CompressedFisher poisson obejct\n",
    "### Specifiy the names of the parameters, the number of derivatives and the order of the finite difference spline\n"
   ]
  },
  {
   "cell_type": "code",
   "execution_count": 57,
   "id": "1c0fee76",
   "metadata": {},
   "outputs": [],
   "source": [
    "cFisher = CompressedFisher.poissonFisher(parameter_names,nSims_deriv,deriv_spline_order=2)\n"
   ]
  },
  {
   "cell_type": "markdown",
   "id": "f6db2ecc",
   "metadata": {},
   "source": [
    "### Pass the simulations to the compressed fisher object\n",
    "### For the poisson case simulations are needed to estimate the variance and means \n",
    "### the derivatives are needed along with step sizes. Note this function also accepts a function instead of a dictionary of derivates. See the docs. for more info"
   ]
  },
  {
   "cell_type": "code",
   "execution_count": 58,
   "id": "af6cd40f",
   "metadata": {},
   "outputs": [],
   "source": [
    "\n",
    "cFisher.initailize_covmat(covmat_sims)\n",
    "cFisher.initailize_deriv_sims(dic_deriv_sims=dict_deriv_sims,dict_param_steps=dict_param_steps)\n"
   ]
  },
  {
   "cell_type": "markdown",
   "id": "de740258",
   "metadata": {},
   "source": [
    "## Split the simulations into part for compression and part for estimating the compressed fisher information"
   ]
  },
  {
   "cell_type": "code",
   "execution_count": 59,
   "id": "c94c1012",
   "metadata": {},
   "outputs": [],
   "source": [
    "cFisher.generate_deriv_sim_splits(compress_frac_split)\n",
    "\n",
    "\n"
   ]
  },
  {
   "cell_type": "markdown",
   "id": "783e902b",
   "metadata": {},
   "source": [
    "## Compute the fisher forecast constraints and the estimated bias"
   ]
  },
  {
   "cell_type": "markdown",
   "id": "e32497dd",
   "metadata": {},
   "source": [
    "### standard fisher"
   ]
  },
  {
   "cell_type": "code",
   "execution_count": 60,
   "id": "49785452",
   "metadata": {},
   "outputs": [],
   "source": [
    "\n",
    "\n",
    "stnd_constraint    = cFisher.compute_fisher_forecast(parameter_names)\n",
    "stnd_constraint_bias = cFisher.est_fisher_forecast_bias(parameter_names)\n"
   ]
  },
  {
   "cell_type": "code",
   "execution_count": 79,
   "id": "a61a2832",
   "metadata": {},
   "outputs": [
    {
     "data": {
      "text/plain": [
       "array([0.15724277, 1.63525745, 1.32076108])"
      ]
     },
     "execution_count": 79,
     "metadata": {},
     "output_type": "execute_result"
    }
   ],
   "source": [
    "np.diag(stnd_constraint)**.5"
   ]
  },
  {
   "cell_type": "code",
   "execution_count": 82,
   "id": "fa1a3e75",
   "metadata": {},
   "outputs": [
    {
     "name": "stdout",
     "output_type": "stream",
     "text": [
      "Parameter \t True Fisher \t standard Fisher \t Fractional bias \n",
      "$\\alpha$ \t 0.172  \t\t  0.157 \t\t     0.138 \n",
      "$\\beta$ \t 2.046  \t\t  1.635 \t\t     0.411 \n",
      "$\\gamma$ \t 1.584  \t\t  1.321 \t\t     0.396 \n"
     ]
    }
   ],
   "source": [
    "print(f'Parameter \\t True Fisher \\t standard Fisher \\t Est. Fractional bias ')\n",
    "for i,name in enumerate(parameter_names):\n",
    "    print(f'{name} \\t {np.linalg.inv(fisher_true)[i,i]**.5:.3f}  \\t\\t  {stnd_constraint[i,i]**.5:.3f} \\t\\t     {(stnd_constraint_bias/stnd_constraint)[i,i]:.3f} ')\n",
    "    "
   ]
  },
  {
   "cell_type": "markdown",
   "id": "85e7bd1d",
   "metadata": {},
   "source": [
    "The estimated fractional bias can be used to assess if the forecast is converged (and so valid).\n",
    "Note that it is the ratio of the bias to the variance (not the constraint that is important).\n",
    "This should be $\\lesssim .2$."
   ]
  },
  {
   "cell_type": "code",
   "execution_count": null,
   "id": "7d184491",
   "metadata": {},
   "outputs": [],
   "source": []
  },
  {
   "cell_type": "markdown",
   "id": "b2524318",
   "metadata": {},
   "source": [
    "### Compressed Fisher\n"
   ]
  },
  {
   "cell_type": "code",
   "execution_count": 83,
   "id": "67f486b4",
   "metadata": {},
   "outputs": [],
   "source": [
    "\n",
    "compressed_constraint = cFisher.compute_compressed_fisher_forecast(parameter_names)\n",
    "compressed_constraint_bias = cFisher.est_compressed_fisher_forecast_bias(parameter_names)\n"
   ]
  },
  {
   "cell_type": "code",
   "execution_count": 84,
   "id": "9590e1b0",
   "metadata": {},
   "outputs": [
    {
     "name": "stdout",
     "output_type": "stream",
     "text": [
      "Parameter \t True Fisher \t Compressed Fisher \t Est. Fractional bias \n",
      "$\\alpha$ \t 0.172  \t\t  0.193 \t\t     0.018 \n",
      "$\\beta$ \t 2.046  \t\t  2.630 \t\t     0.033 \n",
      "$\\gamma$ \t 1.584  \t\t  2.048 \t\t     0.032 \n"
     ]
    }
   ],
   "source": [
    "print(f'Parameter \\t True Fisher \\t Compressed Fisher \\t Est. Fractional bias ')\n",
    "for i,name in enumerate(parameter_names):\n",
    "    print(f'{name} \\t {np.linalg.inv(fisher_true)[i,i]**.5:.3f}  \\t\\t  {compressed_constraint[i,i]**.5:.3f} \\t\\t     {(compressed_constraint_bias/compressed_constraint)[i,i]:.3f} ')\n",
    "    "
   ]
  },
  {
   "cell_type": "markdown",
   "id": "d762f2b2",
   "metadata": {},
   "source": [
    "As above the est. bias can be used to assess when the compressed forecast is reliable. \n",
    "When the compressed forecast is valid, so too is the combined estimator below"
   ]
  },
  {
   "cell_type": "markdown",
   "id": "74a6c74b",
   "metadata": {},
   "source": [
    "### Combined Fisher"
   ]
  },
  {
   "cell_type": "code",
   "execution_count": 62,
   "id": "882267c8",
   "metadata": {
    "scrolled": false
   },
   "outputs": [],
   "source": [
    "\n",
    "combined_constraint = cFisher.compute_combined_fisher_forecast(parameter_names)\n",
    "        "
   ]
  },
  {
   "cell_type": "code",
   "execution_count": 85,
   "id": "34bdc272",
   "metadata": {},
   "outputs": [
    {
     "name": "stdout",
     "output_type": "stream",
     "text": [
      "Parameter \t True Fisher \t Compressed Fisher  \n",
      "$\\alpha$ \t 0.172  \t\t  0.172 \n",
      "$\\beta$ \t 2.046  \t\t  2.073 \n",
      "$\\gamma$ \t 1.584  \t\t  1.638 \n"
     ]
    }
   ],
   "source": [
    "print(f'Parameter \\t True Fisher \\t Compressed Fisher  ')\n",
    "for i,name in enumerate(parameter_names):\n",
    "    print(f'{name} \\t {np.linalg.inv(fisher_true)[i,i]**.5:.3f}  \\t\\t  {combined_constraint[i,i]**.5:.3f} ')\n",
    "    "
   ]
  },
  {
   "cell_type": "code",
   "execution_count": null,
   "id": "c6b96844",
   "metadata": {},
   "outputs": [],
   "source": []
  },
  {
   "cell_type": "markdown",
   "id": "60db7938",
   "metadata": {},
   "source": [
    "# Additional convergence tools"
   ]
  },
  {
   "cell_type": "markdown",
   "id": "a02c4d2f",
   "metadata": {},
   "source": [
    "### Examine how the estimates change with the number of simulations used in the forecast"
   ]
  },
  {
   "cell_type": "code",
   "execution_count": 64,
   "id": "30877e3b",
   "metadata": {},
   "outputs": [
    {
     "name": "stdout",
     "output_type": "stream",
     "text": [
      "40000.0 \n",
      " [0.13915466 1.03897512 0.84365843] \n",
      " [0.02140684 0.23032954 0.17931372]\n",
      "80000.0 \n",
      " [0.14727316 1.29203622 1.02516819] \n",
      " [0.02305535 0.27185061 0.25704316]\n",
      "133333.3333333333 \n",
      " [0.15500171 1.4764659  1.19064332] \n",
      " [0.02517449 0.2695553  0.14881403]\n",
      "160000.0 \n",
      " [0.15543479 1.56052108 1.23848976] \n",
      " [0.0301005  0.19278087 0.20474301]\n",
      "200000.0 \n",
      " [0.15613918 1.61131671 1.27193184] \n",
      " [0.00489719 0.26199053 0.27918   ]\n",
      "400000.0 \n",
      " [0.16314724 1.82445945 1.43537255] \n",
      " [0. 0. 0.]\n",
      "40000.0 \n",
      " [0.26608013 4.64098228 3.4013349 ] \n",
      " [ 2.08091916 26.99645497 26.96273441]\n",
      "80000.0 \n",
      " [0.25120645 4.5303919  3.6801688 ] \n",
      " [0.145603   2.64266825 2.05396928]\n",
      "133333.3333333333 \n",
      " [0.22195029 3.45776885 2.83870496] \n",
      " [0.07694435 1.20210741 0.91588845]\n",
      "160000.0 \n",
      " [0.22355448 3.48268784 2.66927938] \n",
      " [0.05709631 1.79681843 1.10654375]\n",
      "200000.0 \n",
      " [0.23367917 3.47686941 2.72028724] \n",
      " [0.1119681  1.03614908 0.74520873]\n",
      "400000.0 \n",
      " [0.19338167 2.54245594 2.02866332] \n",
      " [0. 0. 0.]\n",
      "40000.0 \n",
      " [0.18550175 2.21566735 1.86985988] \n",
      " [0.11999515 1.75856199 1.49080989]\n",
      "80000.0 \n",
      " [0.18457836 2.66187194 2.09206211] \n",
      " [0.05750809 1.16308746 0.75203794]\n",
      "133333.3333333333 \n",
      " [0.16777341 2.06273341 1.61936207] \n",
      " [0.04584083 0.34687195 0.41408859]\n",
      "160000.0 \n",
      " [0.16477887 2.04147711 1.59929942] \n",
      " [0.01628085 0.51477353 0.3891528 ]\n",
      "200000.0 \n",
      " [0.17432824 2.1171572  1.64821233] \n",
      " [0.05863672 0.5082088  0.33746888]\n",
      "400000.0 \n",
      " [0.17414966 2.12142572 1.66428932] \n",
      " [0. 0. 0.]\n"
     ]
    }
   ],
   "source": [
    "\n",
    "std_nsim, std_mns,std_stds = cFisher.run_fisher_deriv_stablity_test(parameter_names,)\n",
    "\n",
    "comp_nsim, comp_mns,comp_stds = cFisher.run_compressed_fisher_deriv_stablity_test(parameter_names,compress_frac_split)\n",
    "geom_nsim, geom_mns,geom_stds = cFisher.run_combined_fisher_deriv_stablity_test(parameter_names,compress_frac_split)\n"
   ]
  },
  {
   "cell_type": "code",
   "execution_count": null,
   "id": "3f07bb3b",
   "metadata": {},
   "outputs": [],
   "source": []
  },
  {
   "cell_type": "markdown",
   "id": "e333284f",
   "metadata": {},
   "source": [
    "## Convergence of the Standard Fisher forecast"
   ]
  },
  {
   "cell_type": "code",
   "execution_count": 87,
   "id": "a852b7af",
   "metadata": {},
   "outputs": [
    {
     "data": {
      "image/png": "[encoded data removed]",
      "text/plain": [
       "<Figure size 432x288 with 1 Axes>"
      ]
     },
     "metadata": {
      "needs_background": "light"
     },
     "output_type": "display_data"
    }
   ],
   "source": [
    "\n",
    "for i,p in enumerate(parameter_names):\n",
    "    plt.errorbar(std_nsim/std_nsim[-1],std_mns[:,i,i]**.5/std_mns[-1,i,i]**.5,yerr=std_stds[:,i,i]**.5/std_mns[-1,i,i]**.5,label=parameter_names[i])\n",
    "#plt.plot(geom_nsim/geom_nsim[-1],(geom_nsim/geom_nsim[-1])**.5,scaley=False,color='k',alpha=.5,linestyle=':')\n",
    "\n",
    "plt.legend()\n",
    "plt.show()\n"
   ]
  },
  {
   "cell_type": "markdown",
   "id": "ab49e627",
   "metadata": {},
   "source": [
    "Some of the parameter forecasts change by \\gtsim 20% when doubling the number of simulations. This implies the forecast is not fully converged"
   ]
  },
  {
   "cell_type": "markdown",
   "id": "46f3a90f",
   "metadata": {},
   "source": [
    "## Convergence of the compressed fisher forecast"
   ]
  },
  {
   "cell_type": "code",
   "execution_count": 88,
   "id": "e5105d69",
   "metadata": {},
   "outputs": [
    {
     "data": {
      "image/png": "[encoded data removed]",
      "text/plain": [
       "<Figure size 432x288 with 1 Axes>"
      ]
     },
     "metadata": {
      "needs_background": "light"
     },
     "output_type": "display_data"
    }
   ],
   "source": [
    "\n",
    "for i,p in enumerate(parameter_names):\n",
    "    plt.errorbar(comp_nsim/comp_nsim[-1],comp_mns[:,i,i]**.5/comp_mns[-1,i,i]**.5,yerr=comp_stds[:,i,i]**.5/comp_mns[-1,i,i]**.5,label=parameter_names[i])\n",
    "#plt.plot(geom_nsim/geom_nsim[-1],(geom_nsim/geom_nsim[-1])**.5,scaley=False,color='k',alpha=.5,linestyle=':')\n",
    "\n",
    "plt.legend()\n",
    "plt.ylim([.7,3])\n",
    "plt.show()"
   ]
  },
  {
   "cell_type": "markdown",
   "id": "afea777c",
   "metadata": {},
   "source": [
    "The errors here also change, but they decrease with the number of simulations. This is the regime where the compressed forecast is valid. "
   ]
  },
  {
   "cell_type": "markdown",
   "id": "b06cea9f",
   "metadata": {},
   "source": [
    "## Convergence of the combined fisher forecast "
   ]
  },
  {
   "cell_type": "code",
   "execution_count": 89,
   "id": "9a30b645",
   "metadata": {},
   "outputs": [
    {
     "data": {
      "image/png": "[encoded data removed]",
      "text/plain": [
       "<Figure size 432x288 with 1 Axes>"
      ]
     },
     "metadata": {
      "needs_background": "light"
     },
     "output_type": "display_data"
    }
   ],
   "source": [
    "\n",
    "\n",
    "for i,p in enumerate(parameter_names):\n",
    "    plt.errorbar(geom_nsim/geom_nsim[-1],geom_mns[:,i,i]**.5/geom_mns[-1,i,i]**.5,yerr=geom_stds[:,i,i]**.5/geom_mns[-1,i,i]**.5,label=parameter_names[i])\n",
    "#plt.plot(geom_nsim/geom_nsim[-1],(geom_nsim/geom_nsim[-1])**.5,scaley=False,color='k',alpha=.5,linestyle=':')\n",
    "plt.legend()\n",
    "plt.ylim([.25,2])\n",
    "plt.show()\n",
    "#plt.yscale('log')\n",
    "#plt.yscale('log')"
   ]
  },
  {
   "cell_type": "markdown",
   "id": "49358d71",
   "metadata": {},
   "source": [
    "The combined estimator is fairly stable to variations in the number simulations used. This provides further support that the combined forecast is converged"
   ]
  },
  {
   "cell_type": "markdown",
   "id": "30da56c1",
   "metadata": {},
   "source": [
    "# Tools to obtain the Fisher information and estimated biases on these quantities"
   ]
  },
  {
   "cell_type": "code",
   "execution_count": 66,
   "id": "a3729a40",
   "metadata": {},
   "outputs": [],
   "source": [
    "\n",
    "stnd_fisher     = cFisher._compute_fisher_matrix(parameter_names)\n",
    "stnd_fisher_err     = cFisher._compute_fisher_matrix_error(parameter_names)\n",
    "\n",
    "\n",
    "compressed_fisher  = cFisher._compute_compressed_fisher_matrix(parameter_names)\n",
    "compressed_fisher_err  = cFisher._compute_compressed_fisher_matrix_error(parameter_names)\n",
    "\n",
    "\n",
    "combined_fisher = cFisher._compute_combined_fisher_matrix(parameter_names)"
   ]
  },
  {
   "cell_type": "code",
   "execution_count": null,
   "id": "a633a0a8",
   "metadata": {},
   "outputs": [],
   "source": []
  },
  {
   "cell_type": "code",
   "execution_count": null,
   "id": "6de294d5",
   "metadata": {},
   "outputs": [],
   "source": []
  },
  {
   "cell_type": "code",
   "execution_count": null,
   "id": "70ce4961",
   "metadata": {},
   "outputs": [],
   "source": []
  }
 ],
 "metadata": {
  "kernelspec": {
   "display_name": "PNG",
   "language": "python",
   "name": "png"
  },
  "language_info": {
   "codemirror_mode": {
    "name": "ipython",
    "version": 3
   },
   "file_extension": ".py",
   "mimetype": "text/x-python",
   "name": "python",
   "nbconvert_exporter": "python",
   "pygments_lexer": "ipython3",
   "version": "3.8.12"
  }
 },
 "nbformat": 4,
 "nbformat_minor": 5
}
