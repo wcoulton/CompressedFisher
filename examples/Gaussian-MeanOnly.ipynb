{
 "cells": [
  {
   "cell_type": "code",
   "execution_count": 5,
   "id": "8e278020",
   "metadata": {},
   "outputs": [
    {
     "name": "stdout",
     "output_type": "stream",
     "text": [
      "The autoreload extension is already loaded. To reload it, use:\n",
      "  %reload_ext autoreload\n"
     ]
    }
   ],
   "source": [
    "%load_ext autoreload\n",
    "%autoreload 2"
   ]
  },
  {
   "cell_type": "code",
   "execution_count": 6,
   "id": "a9e8d631",
   "metadata": {},
   "outputs": [],
   "source": [
    "import numpy as np \n",
    "import matplotlib.pyplot as plt\n",
    "import CompressedFisher"
   ]
  },
  {
   "cell_type": "code",
   "execution_count": null,
   "id": "970db0f1",
   "metadata": {},
   "outputs": [],
   "source": []
  },
  {
   "cell_type": "code",
   "execution_count": null,
   "id": "94f794ca",
   "metadata": {},
   "outputs": [],
   "source": []
  },
  {
   "cell_type": "code",
   "execution_count": null,
   "id": "b51eef8e",
   "metadata": {},
   "outputs": [],
   "source": []
  },
  {
   "cell_type": "code",
   "execution_count": 7,
   "id": "fe58e4c4",
   "metadata": {},
   "outputs": [],
   "source": [
    "\n",
    "nKs = 100\n",
    "ks = 10**np.linspace(-4,0,nKs)\n",
    "\n"
   ]
  },
  {
   "cell_type": "code",
   "execution_count": 13,
   "id": "5da9e19e",
   "metadata": {},
   "outputs": [],
   "source": [
    "\n",
    "def pk_theory(ks,params):\n",
    "    a,ns,alpha= params\n",
    "    return a+ns*ks+alpha*ks**.5\n",
    "\n",
    "def generateSims(params,nSims=1,params_covMat= np.array([1,1,1.])):\n",
    "    pk_mu = pk_theory(ks,params)\n",
    "    pk_mu_true = pk_theory(ks,params_covMat)\n",
    "    if nSims==1:\n",
    "        return  pk_mu+np.random.randn(nKs)*np.sqrt(2)*pk_mu_true*.1#noiseRatio\n",
    "    else:\n",
    "        return  pk_mu+np.random.randn(nSims,nKs)*np.sqrt(2)*pk_mu_true*.1#noiseRatio\n",
    "\n",
    "def generateCovMat(params):\n",
    "    pk_mu = pk_theory(ks,params)*.1\n",
    "    return np.diag(2*pk_mu**2)\n",
    "\n",
    "def theoretical_derivs(params):\n",
    "    pk_mu = pk_theory(ks,params)\n",
    "    nParams = len(params)\n",
    "    derivs_thry = np.zeros([nParams,nKs])\n",
    "    derivs_thry[0] = np.ones(nKs)\n",
    "    derivs_thry[1] = ks.copy()\n",
    "    derivs_thry[2] = np.sqrt(ks)\n",
    "    return derivs_thry\n",
    "\n",
    "\n",
    "def generate_deriv_sims(paramter_names,params,deltaParams,nSims):\n",
    "    deriv_sims = {}\n",
    "    for i,name in enumerate(paramter_names):\n",
    "        derivs_ens = np.zeros([2,nSims,nKs])\n",
    "        params_plus = np.array(params)\n",
    "        params_plus[i]+=deltaParams[i]\n",
    "        \n",
    "        params_minus = np.array(params)\n",
    "        params_minus[i]-=deltaParams[i]\n",
    "          \n",
    "        derivs_ens[0] = generateSims(params_minus,nSims)\n",
    "        derivs_ens[1] = generateSims(params_plus,nSims)\n",
    "        deriv_sims[name] = derivs_ens\n",
    "    return deriv_sims\n"
   ]
  },
  {
   "cell_type": "code",
   "execution_count": null,
   "id": "286bdb31",
   "metadata": {},
   "outputs": [],
   "source": [
    "\n"
   ]
  },
  {
   "cell_type": "code",
   "execution_count": 14,
   "id": "b1b54d26",
   "metadata": {},
   "outputs": [],
   "source": [
    "\n",
    "def fisherTheory(params):\n",
    "    derivs = theoretical_derivs(params)\n",
    "    covMat = generateCovMat(params)\n",
    "    nParams = len(params)\n",
    "    fisher = np.zeros([nParams,nParams])\n",
    "    for i in range(nParams):\n",
    "        for j in range(i+1):\n",
    "            fisher[i,j] = fisher[j,i] = np.dot(derivs[i], np.linalg.solve(covMat,derivs[j]))\n",
    "    return fisher"
   ]
  },
  {
   "cell_type": "code",
   "execution_count": null,
   "id": "a4c1e0f3",
   "metadata": {},
   "outputs": [],
   "source": []
  },
  {
   "cell_type": "code",
   "execution_count": null,
   "id": "f2b3d84f",
   "metadata": {},
   "outputs": [],
   "source": []
  },
  {
   "cell_type": "code",
   "execution_count": 15,
   "id": "8ef33d38",
   "metadata": {},
   "outputs": [],
   "source": [
    "params_fid = np.array([1,1,1.])\n",
    "delta_params = np.array([.1,.1,.1,])\n",
    "parameter_names = [r\"$\\alpha$\", r\"$\\beta$\", r\"$\\gamma$\"]\n",
    "dict_param_steps = {parameter_names[i]:delta_params[i] for i in range(len(params_fid))}"
   ]
  },
  {
   "cell_type": "code",
   "execution_count": 87,
   "id": "cb746697",
   "metadata": {},
   "outputs": [],
   "source": [
    "nSimsCovMat = 20000\n",
    "nSims_deriv = 2000"
   ]
  },
  {
   "cell_type": "code",
   "execution_count": null,
   "id": "330be52d",
   "metadata": {},
   "outputs": [],
   "source": []
  },
  {
   "cell_type": "code",
   "execution_count": 88,
   "id": "383f585a",
   "metadata": {},
   "outputs": [
    {
     "name": "stdout",
     "output_type": "stream",
     "text": [
      "[[3508.3941183   144.39626774  425.60542035]\n",
      " [ 144.39626774   51.69879884   77.75371946]\n",
      " [ 425.60542035   77.75371946  144.39626774]]\n"
     ]
    }
   ],
   "source": [
    "\n",
    "fisher_true = fisherTheory(params_fid)\n",
    "print(fisher_true)"
   ]
  },
  {
   "cell_type": "code",
   "execution_count": null,
   "id": "7786e07f",
   "metadata": {},
   "outputs": [],
   "source": []
  },
  {
   "cell_type": "code",
   "execution_count": 89,
   "id": "4515084e",
   "metadata": {},
   "outputs": [],
   "source": [
    "compress_frac_split = 0.5"
   ]
  },
  {
   "cell_type": "code",
   "execution_count": null,
   "id": "24dcb6ef",
   "metadata": {},
   "outputs": [],
   "source": []
  },
  {
   "cell_type": "code",
   "execution_count": 90,
   "id": "e0a73b98",
   "metadata": {},
   "outputs": [],
   "source": [
    "covmat_sims = generateSims(params_fid,nSimsCovMat)\n",
    "dict_deriv_sims = generate_deriv_sims(parameter_names,params_fid,delta_params,nSims=nSims_deriv)\n"
   ]
  },
  {
   "cell_type": "code",
   "execution_count": null,
   "id": "d042435b",
   "metadata": {},
   "outputs": [],
   "source": []
  },
  {
   "cell_type": "code",
   "execution_count": 91,
   "id": "1c59a36e",
   "metadata": {},
   "outputs": [],
   "source": [
    "cFisher = CompressedFisher.gaussianFisher(parameter_names,nSims_deriv,include_deriv_covmat=False,deriv_spline_order=2)\n"
   ]
  },
  {
   "cell_type": "code",
   "execution_count": 92,
   "id": "3bf990d6",
   "metadata": {},
   "outputs": [],
   "source": [
    "cFisher.initailize_covmat(covmat_sims)\n",
    "cFisher.initailize_mean(covmat_sims)\n",
    "cFisher.initailize_deriv_sims(dic_deriv_sims=dict_deriv_sims,dict_param_steps=dict_param_steps)\n"
   ]
  },
  {
   "cell_type": "code",
   "execution_count": 93,
   "id": "49b29fb2",
   "metadata": {},
   "outputs": [],
   "source": [
    "cFisher.generate_deriv_sim_splits(compress_frac_split)\n",
    "\n",
    "  "
   ]
  },
  {
   "cell_type": "code",
   "execution_count": 94,
   "id": "71adaa71",
   "metadata": {},
   "outputs": [],
   "source": [
    "  \n",
    "stnd_constraint    = cFisher.compute_fisher_forecast(parameter_names)\n",
    "stnd_constraint_bias = cFisher.est_fisher_forecast_bias(parameter_names)\n",
    "\n",
    "\n",
    "compressed_constraint = cFisher.compute_compressed_fisher_forecast(parameter_names)\n",
    "compressed_constraint_bias = cFisher.est_compressed_fisher_forecast_bias(parameter_names)\n",
    "\n",
    "\n",
    "combined_constraint = cFisher.compute_combined_fisher_forecast(parameter_names)\n",
    "  "
   ]
  },
  {
   "cell_type": "code",
   "execution_count": null,
   "id": "d4fd3775",
   "metadata": {},
   "outputs": [],
   "source": []
  },
  {
   "cell_type": "code",
   "execution_count": 102,
   "id": "03b2f750",
   "metadata": {},
   "outputs": [
    {
     "name": "stdout",
     "output_type": "stream",
     "text": [
      "[0.02235821 0.26375463 0.18288554] [0.12262336 0.46792443 0.41558621]\n",
      "[0.03184526 0.59871795 0.39407093] [0.04810779 0.07755877 0.07534678]\n",
      "[0.0256452  0.39655288 0.26552069]\n",
      "[0.02562638 0.38803585 0.27252169]\n"
     ]
    }
   ],
   "source": [
    "print(np.diag(stnd_constraint)**.5,np.diag(stnd_constraint_bias/stnd_constraint))\n",
    "print(np.diag(compressed_constraint)**.5,np.diag(compressed_constraint_bias/compressed_constraint))\n",
    "print(np.diag(combined_constraint)**.5)\n",
    "print(np.diag(np.linalg.inv(fisher_true))**.5)\n"
   ]
  },
  {
   "cell_type": "code",
   "execution_count": null,
   "id": "bf841d89",
   "metadata": {},
   "outputs": [],
   "source": []
  },
  {
   "cell_type": "code",
   "execution_count": 96,
   "id": "26222360",
   "metadata": {
    "scrolled": false
   },
   "outputs": [
    {
     "name": "stdout",
     "output_type": "stream",
     "text": [
      "200.0 \n",
      " [0.02016542 0.15964997 0.11932597] \n",
      " [0.00283507 0.02605256 0.02414378]\n",
      "400.0 \n",
      " [0.0213989  0.20568636 0.15031325] \n",
      " [0.00418403 0.04042443 0.02837033]\n",
      "666.6666666666666 \n",
      " [0.02254289 0.24563678 0.1708199 ] \n",
      " [0.00554108 0.06725268 0.04639763]\n",
      "800.0 \n",
      " [0.02150947 0.24824653 0.1752565 ] \n",
      " [0.00453118 0.03361067 0.02060246]\n",
      "1000.0 \n",
      " [0.02237175 0.27392733 0.1915676 ] \n",
      " [0.00167914 0.01770228 0.0379109 ]\n",
      "2000.0 \n",
      " [0.02307296 0.30585224 0.21149553] \n",
      " [0. 0. 0.]\n",
      "200.0 \n",
      " [0.07826075 1.95116375 1.39997135] \n",
      " [ 0.74944222 20.49853152 14.97849046]\n",
      "400.0 \n",
      " [0.03571436 0.54353209 0.39543221] \n",
      " [0.12544574 3.02698561 1.74973314]\n",
      "666.6666666666666 \n",
      " [0.03130971 0.73694361 0.56563861] \n",
      " [0.02376279 0.4082278  0.26025515]\n",
      "800.0 \n",
      " [0.03240551 0.6614569  0.42828215] \n",
      " [0.01437724 0.46769513 0.29037983]\n",
      "1000.0 \n",
      " [0.02981591 0.62616282 0.40326311] \n",
      " [0.01480822 0.31706721 0.16224313]\n",
      "2000.0 \n",
      " [0.02769696 0.52912326 0.34285992] \n",
      " [0. 0. 0.]\n",
      "200.0 \n",
      " [0.02516024 0.37135792 0.2459108 ] \n",
      " [0.03033672 0.37276556 0.29014838]\n",
      "400.0 \n",
      " [0.02374201 0.33088756 0.22255688] \n",
      " [0.01827748 0.45628892 0.27495393]\n",
      "666.6666666666666 \n",
      " [0.0244231  0.33444193 0.23863996] \n",
      " [0.00641588 0.04788    0.03181375]\n",
      "800.0 \n",
      " [0.02501349 0.35503103 0.230482  ] \n",
      " [0.0057312  0.20349609 0.11738641]\n",
      "1000.0 \n",
      " [0.02518052 0.35555539 0.2410711 ] \n",
      " [0.00623705 0.17991303 0.09044029]\n",
      "2000.0 \n",
      " [0.02565408 0.38229639 0.25873245] \n",
      " [0. 0. 0.]\n"
     ]
    }
   ],
   "source": [
    "      \n",
    "std_nsim, std_mns,std_stds = cFisher.run_fisher_deriv_stablity_test(parameter_names,)\n",
    "\n",
    "comp_nsim, comp_mns,comp_stds = cFisher.run_compressed_fisher_deriv_stablity_test(parameter_names,compress_frac_split)\n",
    "geom_nsim, geom_mns,geom_stds = cFisher.run_combined_fisher_deriv_stablity_test(parameter_names,compress_frac_split)\n"
   ]
  },
  {
   "cell_type": "code",
   "execution_count": null,
   "id": "6888fde2",
   "metadata": {},
   "outputs": [],
   "source": []
  },
  {
   "cell_type": "code",
   "execution_count": 97,
   "id": "0c24cd41",
   "metadata": {},
   "outputs": [
    {
     "data": {
      "image/png": "[encoded data removed]",
      "text/plain": [
       "<Figure size 432x288 with 1 Axes>"
      ]
     },
     "metadata": {
      "needs_background": "light"
     },
     "output_type": "display_data"
    },
    {
     "data": {
      "image/png": "[encoded data removed]",
      "text/plain": [
       "<Figure size 432x288 with 1 Axes>"
      ]
     },
     "metadata": {
      "needs_background": "light"
     },
     "output_type": "display_data"
    },
    {
     "data": {
      "image/png": "[encoded data removed]",
      "text/plain": [
       "<Figure size 432x288 with 1 Axes>"
      ]
     },
     "metadata": {
      "needs_background": "light"
     },
     "output_type": "display_data"
    }
   ],
   "source": [
    "\n",
    "for i,p in enumerate(parameter_names):\n",
    "    plt.errorbar(std_nsim/std_nsim[-1],std_mns[:,i,i]**.5/std_mns[-1,i,i]**.5,yerr=std_stds[:,i,i]**.5/std_mns[-1,i,i]**.5,label=parameter_names[i])\n",
    "#plt.plot(geom_nsim/geom_nsim[-1],(geom_nsim/geom_nsim[-1])**.5,scaley=False,color='k',alpha=.5,linestyle=':')\n",
    "\n",
    "plt.legend()\n",
    "plt.show()\n",
    "\n",
    "for i,p in enumerate(parameter_names):\n",
    "    plt.errorbar(comp_nsim/comp_nsim[-1],comp_mns[:,i,i]**.5/comp_mns[-1,i,i]**.5,yerr=comp_stds[:,i,i]**.5/comp_mns[-1,i,i]**.5,label=parameter_names[i])\n",
    "#plt.plot(geom_nsim/geom_nsim[-1],(geom_nsim/geom_nsim[-1])**.5,scaley=False,color='k',alpha=.5,linestyle=':')\n",
    "\n",
    "plt.legend()\n",
    "plt.ylim([.7,3])\n",
    "plt.show()\n",
    "\n",
    "for i,p in enumerate(parameter_names):\n",
    "    plt.errorbar(geom_nsim/geom_nsim[-1],geom_mns[:,i,i]**.5/geom_mns[-1,i,i]**.5,yerr=geom_stds[:,i,i]**.5/geom_mns[-1,i,i]**.5,label=parameter_names[i])\n",
    "#plt.plot(geom_nsim/geom_nsim[-1],(geom_nsim/geom_nsim[-1])**.5,scaley=False,color='k',alpha=.5,linestyle=':')\n",
    "plt.legend()\n",
    "plt.ylim([.25,2])\n",
    "plt.show()\n",
    "#plt.yscale('log')\n",
    "#plt.yscale('log')"
   ]
  },
  {
   "cell_type": "code",
   "execution_count": null,
   "id": "16ed25ae",
   "metadata": {},
   "outputs": [],
   "source": []
  },
  {
   "cell_type": "code",
   "execution_count": 98,
   "id": "bc5c9044",
   "metadata": {},
   "outputs": [],
   "source": [
    "\n",
    "stnd_fisher     = cFisher._compute_fisher_matrix(parameter_names)\n",
    "stnd_fisher_err     = cFisher._compute_fisher_matrix_error(parameter_names)\n",
    "\n",
    "\n",
    "compressed_fisher  = cFisher._compute_compressed_fisher_matrix(parameter_names)\n",
    "compressed_fisher_err  = cFisher._compute_compressed_fisher_matrix_error(parameter_names)\n",
    "\n",
    "\n",
    "combined_fisher = cFisher._compute_combined_fisher_matrix(parameter_names)"
   ]
  },
  {
   "cell_type": "code",
   "execution_count": null,
   "id": "e46fdd3f",
   "metadata": {},
   "outputs": [],
   "source": []
  },
  {
   "cell_type": "code",
   "execution_count": null,
   "id": "94e7208d",
   "metadata": {},
   "outputs": [],
   "source": []
  },
  {
   "cell_type": "code",
   "execution_count": null,
   "id": "2aae530e",
   "metadata": {},
   "outputs": [],
   "source": []
  }
 ],
 "metadata": {
  "kernelspec": {
   "display_name": "PNG",
   "language": "python",
   "name": "png"
  },
  "language_info": {
   "codemirror_mode": {
    "name": "ipython",
    "version": 3
   },
   "file_extension": ".py",
   "mimetype": "text/x-python",
   "name": "python",
   "nbconvert_exporter": "python",
   "pygments_lexer": "ipython3",
   "version": "3.8.12"
  }
 },
 "nbformat": 4,
 "nbformat_minor": 5
}
