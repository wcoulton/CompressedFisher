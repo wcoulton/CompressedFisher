{
 "cells": [
  {
   "cell_type": "code",
   "execution_count": 2,
   "id": "8e278020",
   "metadata": {},
   "outputs": [],
   "source": [
    "%load_ext autoreload\n",
    "%autoreload 2"
   ]
  },
  {
   "cell_type": "code",
   "execution_count": 3,
   "id": "a9e8d631",
   "metadata": {},
   "outputs": [],
   "source": [
    "import numpy as np \n",
    "import matplotlib.pyplot as plt\n",
    "import CompressedFisher"
   ]
  },
  {
   "cell_type": "code",
   "execution_count": null,
   "id": "970db0f1",
   "metadata": {},
   "outputs": [],
   "source": []
  },
  {
   "cell_type": "code",
   "execution_count": null,
   "id": "94f794ca",
   "metadata": {},
   "outputs": [],
   "source": []
  },
  {
   "cell_type": "code",
   "execution_count": null,
   "id": "b51eef8e",
   "metadata": {},
   "outputs": [],
   "source": []
  },
  {
   "cell_type": "markdown",
   "id": "32327f27",
   "metadata": {},
   "source": [
    "# A set of routines that define the toy model\n",
    "\n",
    "We consider nKs points, at positions $k$, from a gaussian distribution with mean, $\\mu(\\mathbf{k})$, given by\n",
    "\\begin{align}\n",
    "\\mu(\\mathbf{k},\\theta) = \\alpha+\\beta k + \\gamma \\sqrt{k}\n",
    "\\end{align}\n",
    "where $\\theta$ is a vector of the model parameters ($\\alpha$,$\\beta$ and $\\gamma$).\n",
    "The covariance matrix of the observations is\n",
    "\\begin{align}\n",
    "Cov(k_i,k_j)  = \\delta_{i,j} 2\\mu(k_i,\\theta)^2\n",
    "\\end{align}\n",
    "where $\\theta$ denotes that the covariance matrix is also dependent on the parameters"
   ]
  },
  {
   "cell_type": "code",
   "execution_count": 4,
   "id": "5da9e19e",
   "metadata": {},
   "outputs": [],
   "source": [
    "# Define number and location of points\n",
    "nKs = 100\n",
    "ks = 10**np.linspace(-4,0,nKs)\n",
    "\n",
    "\n",
    "def muk_theory(ks,params):\n",
    "    \"\"\"\n",
    "    Evalute the toy model for the mean of the Gaussian at a set of positiosn\n",
    "    \n",
    "    Args:\n",
    "        ks ([array of floats]): ks at which to evaluate the model\n",
    "        params ([array of floats]): The values of the parameters to \n",
    "    Returns:\n",
    "        [array of shape [nks]]: The mean at the requested values \n",
    "    \"\"\"\n",
    "\n",
    "    alpha,beta,gamma= params\n",
    "    return alpha+beta*ks+gamma*ks**.5\n",
    "\n",
    "def generateCovMat(params):\n",
    "    \"\"\"\n",
    "    Construct the covariance matrix given as:\n",
    "    Cov (x_i,x_j) = \\delta_{i,j} 2 \\mu(x_i)**2\n",
    "    Args:\n",
    "        params ([list floats]): The values of the parameters to evaluate the covariance matrix at\n",
    "        \n",
    "    Returns:\n",
    "        [array (nKs,nKs) ]: The covariance matrix\n",
    "    \"\"\"\n",
    "    mu_k = muk_theory(ks,params)\n",
    "    return np.diag(2*mu_k**2)\n",
    "\n",
    "\n",
    "def generateSims(params,nSims=1):\n",
    "    \"\"\"\n",
    "    Generate draw realizations from the toy model with the given set of parameters\n",
    "    \n",
    "    Args:\n",
    "        params ([list floats]): The values of the parameters to draw realizations at.\n",
    "        nSims (ind): The number of sims to generate (default: `1`)\n",
    "    Returns:\n",
    "        [array (nSims,nKs) ]: The Gaussian simulations\n",
    "    \"\"\"\n",
    "\n",
    "    mu_k = muk_theory(ks,params)\n",
    "    return  mu_k+np.random.randn(nSims,nKs)*np.sqrt(2)*mu_k\n",
    "\n",
    "\n",
    "\n",
    "def generate_deriv_sims(paramter_names,params,deltaParams,nSims):\n",
    "    \"\"\"\n",
    "    Generates simulations for use as finite difference derivatives.\n",
    "    These are central finite differences, ths for each parameter \n",
    "    simulations are generated at $\\theta\\pm \\delta\\theta$.\n",
    "    \n",
    "    For this case we use the 'seed matching technique'.\n",
    "    In this method the seeds for the simulations at \\theta+\\delta\\theta and \\theta-\\delta\\theta\n",
    "    are chosen to match. This is often used in pratical cases to reduce the MC noise.\n",
    "    \n",
    "    \n",
    "    Args:\n",
    "        parameter_names ([list of names]): the names of the parameters\n",
    "        params ([array]): the values of the parameters about which to compute the derivatives\n",
    "        deltaParams ([array]): The parameter step size\n",
    "        nSims ([int]): The number of simulations\n",
    "    \n",
    "    Returns:\n",
    "        [dictionary]: The simulations for computing the derivates.  Each entry in the dicitonary \n",
    "                      is an array of size [2,nSims,nKs]. \n",
    "                    \n",
    "    \"\"\"\n",
    "    deriv_sims = {}\n",
    "    state = np.random.get_state()\n",
    "    for i,name in enumerate(paramter_names):\n",
    "        derivs_ens = np.zeros([2,nSims,nKs])\n",
    "        params_plus = np.array(params)\n",
    "        params_plus[i]+=deltaParams[i]\n",
    "        \n",
    "        params_minus = np.array(params)\n",
    "        params_minus[i]-=deltaParams[i]\n",
    "          \n",
    "        np.random.set_state(state)\n",
    "        derivs_ens[0] = generateSims(params_minus,nSims)\n",
    "        np.random.set_state(state)  \n",
    "        derivs_ens[1] = generateSims(params_plus,nSims)\n",
    "        deriv_sims[name] = derivs_ens\n",
    "    return deriv_sims\n",
    "\n",
    "\n",
    "\"\"\"\n",
    "For this toy model we can compute the true Fisher information analytically.\n",
    "\"\"\" \n",
    "\n",
    "def theoretical_derivs(params):    \n",
    "    \"\"\"\n",
    "    Computes the derivatives analytical\n",
    "    \n",
    "    Args:\n",
    "        params ([array]): The values where the derivatives are to be evaluated\n",
    "    \n",
    "    Returns:\n",
    "         an array of shape [3,nKs] : The derivatives for the 3 parameters\n",
    "    \"\"\"\n",
    "    mu_k = muk_theory(ks,params)\n",
    "    nParams = len(params)\n",
    "    derivs_thry = np.zeros([nParams,nKs])\n",
    "    derivs_thry[0] = np.ones(nKs)\n",
    "    derivs_thry[1] = ks.copy()\n",
    "    derivs_thry[2] = np.sqrt(ks)\n",
    "    derivs_thry_covMat = np.zeros([nParams,nKs,nKs])\n",
    "    for i in range(nParams):\n",
    "        derivs_thry_covMat[i] = 4*np.diag(derivs_thry[i])*mu_k\n",
    "    return derivs_thry,derivs_thry_covMat\n",
    "\n",
    "def fisherInformationTheory(params):\n",
    "    \"\"\"\n",
    "    Compute the exact Fisher informations\n",
    "    \n",
    "    Args:\n",
    "        params ([array]): The values where the Fisher information are to be evaluated\n",
    "    \n",
    "    Returns:\n",
    "        [matrix nParams x nParams]: The analytical Fisher information (i.e. the `truth')\n",
    "    \"\"\"\n",
    "    derivs,derivs_covMat = theoretical_derivs(params)\n",
    "    covMat = generateCovMat(params)\n",
    "    nParams = len(params)\n",
    "    fisher = np.zeros([nParams,nParams])\n",
    "    for i in range(nParams):\n",
    "        tmp_a = (np.linalg.solve(covMat,derivs_covMat[i]))\n",
    "        for j in range(i+1):\n",
    "            tmp_b = (np.linalg.solve(covMat,derivs_covMat[j]))\n",
    "            tmp =  np.dot(derivs[i], np.linalg.solve(covMat,derivs[j]))\n",
    "            tmp+= .5*np.trace(np.dot(tmp_a,tmp_b))\n",
    "            fisher[i,j] = fisher[j,i] = tmp\n",
    "    return fisher\n"
   ]
  },
  {
   "cell_type": "code",
   "execution_count": null,
   "id": "286bdb31",
   "metadata": {},
   "outputs": [],
   "source": []
  },
  {
   "cell_type": "code",
   "execution_count": null,
   "id": "b1b54d26",
   "metadata": {},
   "outputs": [],
   "source": []
  },
  {
   "cell_type": "code",
   "execution_count": null,
   "id": "a4c1e0f3",
   "metadata": {},
   "outputs": [],
   "source": []
  },
  {
   "cell_type": "markdown",
   "id": "636b3b78",
   "metadata": {},
   "source": [
    "# Set the fiducial parameter values and parameter step sizes"
   ]
  },
  {
   "cell_type": "code",
   "execution_count": 25,
   "id": "8ef33d38",
   "metadata": {},
   "outputs": [],
   "source": [
    "params_fid = np.array([1,1,1.])\n",
    "delta_params = np.array([.1,.1,.1,])\n",
    "parameter_names = [r\"$\\alpha$\", r\"$\\beta$\", r\"$\\gamma$\"]\n",
    "dict_param_steps = {parameter_names[i]:delta_params[i] for i in range(len(params_fid))}"
   ]
  },
  {
   "cell_type": "markdown",
   "id": "f1f8e127",
   "metadata": {},
   "source": [
    "# Specify the number of simulations to use to estimate the mean and covariance"
   ]
  },
  {
   "cell_type": "code",
   "execution_count": 26,
   "id": "cb746697",
   "metadata": {},
   "outputs": [],
   "source": [
    "nSimsCovMat = 20000\n",
    "nSims_deriv = 300"
   ]
  },
  {
   "cell_type": "code",
   "execution_count": null,
   "id": "330be52d",
   "metadata": {},
   "outputs": [],
   "source": []
  },
  {
   "cell_type": "markdown",
   "id": "f7f95384",
   "metadata": {},
   "source": [
    "# Evaluate the true fisher information"
   ]
  },
  {
   "cell_type": "code",
   "execution_count": 27,
   "id": "383f585a",
   "metadata": {},
   "outputs": [
    {
     "name": "stdout",
     "output_type": "stream",
     "text": [
      "[[175.41970592   7.21981339  21.28027102]\n",
      " [  7.21981339   2.58493994   3.88768597]\n",
      " [ 21.28027102   3.88768597   7.21981339]]\n"
     ]
    }
   ],
   "source": [
    "\n",
    "fisher_true = fisherInformationTheory(params_fid)\n",
    "print(fisher_true)"
   ]
  },
  {
   "cell_type": "markdown",
   "id": "734aac7b",
   "metadata": {},
   "source": [
    "# Specifcy the fraction of simulations to be used to compute the compression (the remainder are used to evaluate the compressed Fisher information)"
   ]
  },
  {
   "cell_type": "code",
   "execution_count": 28,
   "id": "22e93f46",
   "metadata": {},
   "outputs": [],
   "source": [
    "compress_frac_split = 0.5"
   ]
  },
  {
   "cell_type": "markdown",
   "id": "82dbddcb",
   "metadata": {},
   "source": [
    "# Generate our mock data\n",
    "## Simulations for estimating the variances and simulates simulations for estimating finite difference derivatives"
   ]
  },
  {
   "cell_type": "code",
   "execution_count": 29,
   "id": "15ca591b",
   "metadata": {},
   "outputs": [],
   "source": [
    "\n",
    "covmat_sims = generateSims(params_fid,nSimsCovMat)\n",
    "dict_deriv_sims = generate_deriv_sims(parameter_names,params_fid,delta_params,nSims=nSims_deriv)"
   ]
  },
  {
   "cell_type": "markdown",
   "id": "ebd3095a",
   "metadata": {},
   "source": [
    "Note the structure of the derivaties is a dictionary with elements [ $(\\theta-\\delta\\theta,\\theta+\\delta\\theta)$, $N_\\mathrm{sims}$, $N_{ks}$]"
   ]
  },
  {
   "cell_type": "code",
   "execution_count": null,
   "id": "d96ccf9f",
   "metadata": {},
   "outputs": [],
   "source": []
  },
  {
   "cell_type": "markdown",
   "id": "ea717b32",
   "metadata": {},
   "source": [
    "# Initialize a CompressedFisher poisson obejct\n",
    "### Specifiy the names of the parameters, the number of derivatives and the order of the finite difference spline\n"
   ]
  },
  {
   "cell_type": "code",
   "execution_count": 45,
   "id": "1c0fee76",
   "metadata": {},
   "outputs": [],
   "source": [
    "cFisher = CompressedFisher.gaussianFisher(parameter_names,nSims_deriv,include_covmat_param_depedence=True,deriv_finite_dif_accuracy=2)\n"
   ]
  },
  {
   "cell_type": "markdown",
   "id": "f6db2ecc",
   "metadata": {},
   "source": [
    "### Pass the simulations to the compressed fisher object\n",
    "### For the Gaussian case simulations are needed to estimate the covariance and means \n",
    "### the derivatives are needed along with step sizes. Note this function also accepts a function instead of a dictionary of derivates. See the docs. for more info"
   ]
  },
  {
   "cell_type": "code",
   "execution_count": 46,
   "id": "af6cd40f",
   "metadata": {},
   "outputs": [],
   "source": [
    "cFisher.initailize_covmat(covmat_sims)\n",
    "cFisher.initailize_mean(covmat_sims)\n",
    "cFisher.initailize_deriv_sims(dic_deriv_sims=dict_deriv_sims,dict_param_steps=dict_param_steps)\n"
   ]
  },
  {
   "cell_type": "markdown",
   "id": "de740258",
   "metadata": {},
   "source": [
    "## Split the simulations into part for compression and part for estimating the compressed fisher information"
   ]
  },
  {
   "cell_type": "code",
   "execution_count": 47,
   "id": "c94c1012",
   "metadata": {},
   "outputs": [],
   "source": [
    "cFisher.generate_deriv_sim_splits(compress_frac_split)\n",
    "\n",
    "\n"
   ]
  },
  {
   "cell_type": "code",
   "execution_count": null,
   "id": "12b6a5a9",
   "metadata": {},
   "outputs": [],
   "source": []
  },
  {
   "cell_type": "code",
   "execution_count": null,
   "id": "65580d05",
   "metadata": {},
   "outputs": [],
   "source": []
  },
  {
   "cell_type": "markdown",
   "id": "783e902b",
   "metadata": {},
   "source": [
    "## Compute the fisher forecast constraints and the estimated bias"
   ]
  },
  {
   "cell_type": "markdown",
   "id": "e32497dd",
   "metadata": {},
   "source": [
    "### standard fisher"
   ]
  },
  {
   "cell_type": "code",
   "execution_count": 48,
   "id": "49785452",
   "metadata": {},
   "outputs": [],
   "source": [
    "\n",
    "\n",
    "stnd_constraint    = cFisher.compute_fisher_forecast(parameter_names)\n",
    "stnd_constraint_bias = cFisher.est_fisher_forecast_bias(parameter_names)\n"
   ]
  },
  {
   "cell_type": "code",
   "execution_count": 49,
   "id": "a61a2832",
   "metadata": {},
   "outputs": [
    {
     "data": {
      "text/plain": [
       "array([0.09811384, 1.51870161, 1.0819747 ])"
      ]
     },
     "execution_count": 49,
     "metadata": {},
     "output_type": "execute_result"
    }
   ],
   "source": [
    "np.diag(stnd_constraint)**.5"
   ]
  },
  {
   "cell_type": "code",
   "execution_count": 50,
   "id": "fa1a3e75",
   "metadata": {},
   "outputs": [
    {
     "name": "stdout",
     "output_type": "stream",
     "text": [
      "Parameter \t True Fisher \t standard Fisher \t Est. Fractional bias \n",
      "$\\alpha$ \t 0.115  \t\t  0.098 \t\t     0.264 \n",
      "$\\beta$ \t 1.735  \t\t  1.519 \t\t     0.235 \n",
      "$\\gamma$ \t 1.219  \t\t  1.082 \t\t     0.235 \n"
     ]
    }
   ],
   "source": [
    "print(f'Parameter \\t True Fisher \\t standard Fisher \\t Est. Fractional bias ')\n",
    "for i,name in enumerate(parameter_names):\n",
    "    print(f'{name} \\t {np.linalg.inv(fisher_true)[i,i]**.5:.3f}  \\t\\t  {stnd_constraint[i,i]**.5:.3f} \\t\\t     {(stnd_constraint_bias/stnd_constraint)[i,i]:.3f} ')\n",
    "    "
   ]
  },
  {
   "cell_type": "markdown",
   "id": "85e7bd1d",
   "metadata": {},
   "source": [
    "The estimated fractional bias can be used to assess if the forecast is converged (and so valid).\n",
    "Note that it is the ratio of the bias to the variance (not the constraint that is important).\n",
    "This should be $\\lesssim .2$."
   ]
  },
  {
   "cell_type": "code",
   "execution_count": null,
   "id": "7d184491",
   "metadata": {},
   "outputs": [],
   "source": []
  },
  {
   "cell_type": "markdown",
   "id": "b2524318",
   "metadata": {},
   "source": [
    "### Compressed Fisher\n"
   ]
  },
  {
   "cell_type": "code",
   "execution_count": 51,
   "id": "67f486b4",
   "metadata": {},
   "outputs": [],
   "source": [
    "\n",
    "compressed_constraint = cFisher.compute_compressed_fisher_forecast(parameter_names)\n",
    "compressed_constraint_bias = cFisher.est_compressed_fisher_forecast_bias(parameter_names)\n"
   ]
  },
  {
   "cell_type": "code",
   "execution_count": 52,
   "id": "9590e1b0",
   "metadata": {},
   "outputs": [
    {
     "name": "stdout",
     "output_type": "stream",
     "text": [
      "Parameter \t True Fisher \t Compressed Fisher \t Est. Fractional bias \n",
      "$\\alpha$ \t 0.115  \t\t  0.132 \t\t     0.008 \n",
      "$\\beta$ \t 1.735  \t\t  1.925 \t\t     0.012 \n",
      "$\\gamma$ \t 1.219  \t\t  1.365 \t\t     0.012 \n"
     ]
    }
   ],
   "source": [
    "print(f'Parameter \\t True Fisher \\t Compressed Fisher \\t Est. Fractional bias ')\n",
    "for i,name in enumerate(parameter_names):\n",
    "    print(f'{name} \\t {np.linalg.inv(fisher_true)[i,i]**.5:.3f}  \\t\\t  {compressed_constraint[i,i]**.5:.3f} \\t\\t     {(compressed_constraint_bias/compressed_constraint)[i,i]:.3f} ')\n",
    "    "
   ]
  },
  {
   "cell_type": "markdown",
   "id": "d762f2b2",
   "metadata": {},
   "source": [
    "As above the est. bias can be used to assess when the compressed forecast is reliable. \n",
    "When the compressed forecast is valid, so too is the combined estimator below"
   ]
  },
  {
   "cell_type": "markdown",
   "id": "74a6c74b",
   "metadata": {},
   "source": [
    "### Combined Fisher"
   ]
  },
  {
   "cell_type": "code",
   "execution_count": 53,
   "id": "882267c8",
   "metadata": {
    "scrolled": false
   },
   "outputs": [],
   "source": [
    "\n",
    "combined_constraint = cFisher.compute_combined_fisher_forecast(parameter_names)\n",
    "        "
   ]
  },
  {
   "cell_type": "code",
   "execution_count": 54,
   "id": "34bdc272",
   "metadata": {},
   "outputs": [
    {
     "name": "stdout",
     "output_type": "stream",
     "text": [
      "Parameter \t True Fisher \t Compressed Fisher  \n",
      "$\\alpha$ \t 0.115  \t\t  0.114 \n",
      "$\\beta$ \t 1.735  \t\t  1.709 \n",
      "$\\gamma$ \t 1.219  \t\t  1.215 \n"
     ]
    }
   ],
   "source": [
    "print(f'Parameter \\t True Fisher \\t Compressed Fisher  ')\n",
    "for i,name in enumerate(parameter_names):\n",
    "    print(f'{name} \\t {np.linalg.inv(fisher_true)[i,i]**.5:.3f}  \\t\\t  {combined_constraint[i,i]**.5:.3f} ')\n",
    "    "
   ]
  },
  {
   "cell_type": "code",
   "execution_count": null,
   "id": "c6b96844",
   "metadata": {},
   "outputs": [],
   "source": []
  },
  {
   "cell_type": "markdown",
   "id": "60db7938",
   "metadata": {},
   "source": [
    "# Additional convergence tools"
   ]
  },
  {
   "cell_type": "markdown",
   "id": "a02c4d2f",
   "metadata": {},
   "source": [
    "### Examine how the estimates change with the number of simulations used in the forecast"
   ]
  },
  {
   "cell_type": "code",
   "execution_count": 55,
   "id": "30877e3b",
   "metadata": {},
   "outputs": [],
   "source": [
    "\n",
    "std_nsim, std_mns,std_stds = cFisher.run_fisher_deriv_stablity_test(parameter_names,)\n",
    "\n",
    "comp_nsim, comp_mns,comp_stds = cFisher.run_compressed_fisher_deriv_stablity_test(parameter_names,compress_frac_split)\n",
    "geom_nsim, geom_mns,geom_stds = cFisher.run_combined_fisher_deriv_stablity_test(parameter_names,compress_frac_split)\n"
   ]
  },
  {
   "cell_type": "code",
   "execution_count": null,
   "id": "3f07bb3b",
   "metadata": {},
   "outputs": [],
   "source": []
  },
  {
   "cell_type": "markdown",
   "id": "e333284f",
   "metadata": {},
   "source": [
    "## Convergence of the Standard Fisher forecast"
   ]
  },
  {
   "cell_type": "code",
   "execution_count": 56,
   "id": "a852b7af",
   "metadata": {},
   "outputs": [
    {
     "data": {
      "image/png": "[encoded data removed]",
      "text/plain": [
       "<Figure size 432x288 with 1 Axes>"
      ]
     },
     "metadata": {
      "needs_background": "light"
     },
     "output_type": "display_data"
    }
   ],
   "source": [
    "\n",
    "for i,p in enumerate(parameter_names):\n",
    "    plt.errorbar(std_nsim/std_nsim[-1],std_mns[:,i,i]**.5/std_mns[-1,i,i]**.5,yerr=std_stds[:,i,i]**.5/std_mns[-1,i,i]**.5,label=parameter_names[i])\n",
    "#plt.plot(geom_nsim/geom_nsim[-1],(geom_nsim/geom_nsim[-1])**.5,scaley=False,color='k',alpha=.5,linestyle=':')\n",
    "\n",
    "plt.legend()\n",
    "plt.show()\n"
   ]
  },
  {
   "cell_type": "markdown",
   "id": "ab49e627",
   "metadata": {},
   "source": [
    "Some of the parameter forecasts change by \\gtsim 20% when doubling the number of simulations. This implies the forecast is not fully converged"
   ]
  },
  {
   "cell_type": "markdown",
   "id": "46f3a90f",
   "metadata": {},
   "source": [
    "## Convergence of the compressed fisher forecast"
   ]
  },
  {
   "cell_type": "code",
   "execution_count": 57,
   "id": "e5105d69",
   "metadata": {},
   "outputs": [
    {
     "data": {
      "image/png": "[encoded data removed]",
      "text/plain": [
       "<Figure size 432x288 with 1 Axes>"
      ]
     },
     "metadata": {
      "needs_background": "light"
     },
     "output_type": "display_data"
    }
   ],
   "source": [
    "\n",
    "for i,p in enumerate(parameter_names):\n",
    "    plt.errorbar(comp_nsim/comp_nsim[-1],comp_mns[:,i,i]**.5/comp_mns[-1,i,i]**.5,yerr=comp_stds[:,i,i]**.5/comp_mns[-1,i,i]**.5,label=parameter_names[i])\n",
    "#plt.plot(geom_nsim/geom_nsim[-1],(geom_nsim/geom_nsim[-1])**.5,scaley=False,color='k',alpha=.5,linestyle=':')\n",
    "\n",
    "plt.legend()\n",
    "plt.ylim([.7,3])\n",
    "plt.show()"
   ]
  },
  {
   "cell_type": "markdown",
   "id": "afea777c",
   "metadata": {},
   "source": [
    "The errors here also change, but they decrease with the number of simulations. This is the regime where the compressed forecast is valid. "
   ]
  },
  {
   "cell_type": "markdown",
   "id": "b06cea9f",
   "metadata": {},
   "source": [
    "## Convergence of the combined fisher forecast "
   ]
  },
  {
   "cell_type": "code",
   "execution_count": 58,
   "id": "9a30b645",
   "metadata": {},
   "outputs": [
    {
     "data": {
      "image/png": "[encoded data removed]",
      "text/plain": [
       "<Figure size 432x288 with 1 Axes>"
      ]
     },
     "metadata": {
      "needs_background": "light"
     },
     "output_type": "display_data"
    }
   ],
   "source": [
    "\n",
    "\n",
    "for i,p in enumerate(parameter_names):\n",
    "    plt.errorbar(geom_nsim/geom_nsim[-1],geom_mns[:,i,i]**.5/geom_mns[-1,i,i]**.5,yerr=geom_stds[:,i,i]**.5/geom_mns[-1,i,i]**.5,label=parameter_names[i])\n",
    "#plt.plot(geom_nsim/geom_nsim[-1],(geom_nsim/geom_nsim[-1])**.5,scaley=False,color='k',alpha=.5,linestyle=':')\n",
    "plt.legend()\n",
    "plt.ylim([.25,2])\n",
    "plt.show()\n",
    "#plt.yscale('log')\n",
    "#plt.yscale('log')"
   ]
  },
  {
   "cell_type": "markdown",
   "id": "49358d71",
   "metadata": {},
   "source": [
    "The combined estimator is fairly stable to variations in the number simulations used. This provides further support that the combined forecast is converged"
   ]
  },
  {
   "cell_type": "markdown",
   "id": "30da56c1",
   "metadata": {},
   "source": [
    "# Tools to obtain the Fisher information and estimated biases on these quantities"
   ]
  },
  {
   "cell_type": "code",
   "execution_count": 59,
   "id": "a3729a40",
   "metadata": {},
   "outputs": [],
   "source": [
    "\n",
    "stnd_fisher     = cFisher._compute_fisher_matrix(parameter_names)\n",
    "stnd_fisher_err     = cFisher._compute_fisher_matrix_error(parameter_names)\n",
    "\n",
    "\n",
    "compressed_fisher  = cFisher._compute_compressed_fisher_matrix(parameter_names)\n",
    "compressed_fisher_err  = cFisher._compute_compressed_fisher_matrix_error(parameter_names)\n",
    "\n",
    "\n",
    "combined_fisher = cFisher._compute_combined_fisher_matrix(parameter_names)"
   ]
  },
  {
   "cell_type": "code",
   "execution_count": null,
   "id": "a633a0a8",
   "metadata": {},
   "outputs": [],
   "source": []
  },
  {
   "cell_type": "code",
   "execution_count": null,
   "id": "6de294d5",
   "metadata": {},
   "outputs": [],
   "source": []
  },
  {
   "cell_type": "code",
   "execution_count": null,
   "id": "70ce4961",
   "metadata": {},
   "outputs": [],
   "source": []
  },
  {
   "cell_type": "code",
   "execution_count": null,
   "id": "8d31c2bd",
   "metadata": {},
   "outputs": [],
   "source": []
  },
  {
   "cell_type": "code",
   "execution_count": null,
   "id": "b50e28ac",
   "metadata": {},
   "outputs": [],
   "source": []
  },
  {
   "cell_type": "code",
   "execution_count": null,
   "id": "1d250027",
   "metadata": {},
   "outputs": [],
   "source": []
  }
 ],
 "metadata": {
  "kernelspec": {
   "display_name": "PNG",
   "language": "python",
   "name": "png"
  },
  "language_info": {
   "codemirror_mode": {
    "name": "ipython",
    "version": 3
   },
   "file_extension": ".py",
   "mimetype": "text/x-python",
   "name": "python",
   "nbconvert_exporter": "python",
   "pygments_lexer": "ipython3",
   "version": "3.8.12"
  }
 },
 "nbformat": 4,
 "nbformat_minor": 5
}
