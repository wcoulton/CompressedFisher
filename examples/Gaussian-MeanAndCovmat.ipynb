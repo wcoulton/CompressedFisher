{
 "cells": [
  {
   "cell_type": "code",
   "execution_count": 1,
   "id": "8e278020",
   "metadata": {},
   "outputs": [],
   "source": [
    "%load_ext autoreload\n",
    "%autoreload 2"
   ]
  },
  {
   "cell_type": "code",
   "execution_count": 5,
   "id": "a9e8d631",
   "metadata": {},
   "outputs": [],
   "source": [
    "import numpy as np \n",
    "import matplotlib.pyplot as plt\n",
    "import CompressedFisher"
   ]
  },
  {
   "cell_type": "code",
   "execution_count": null,
   "id": "970db0f1",
   "metadata": {},
   "outputs": [],
   "source": []
  },
  {
   "cell_type": "code",
   "execution_count": null,
   "id": "94f794ca",
   "metadata": {},
   "outputs": [],
   "source": []
  },
  {
   "cell_type": "code",
   "execution_count": null,
   "id": "b51eef8e",
   "metadata": {},
   "outputs": [],
   "source": []
  },
  {
   "cell_type": "code",
   "execution_count": 6,
   "id": "fe58e4c4",
   "metadata": {},
   "outputs": [],
   "source": [
    "\n",
    "nKs = 100\n",
    "ks = 10**np.linspace(-4,0,nKs)\n",
    "\n"
   ]
  },
  {
   "cell_type": "code",
   "execution_count": 14,
   "id": "5da9e19e",
   "metadata": {},
   "outputs": [],
   "source": [
    "\n",
    "\n",
    "def pk_theory(ks,params):\n",
    "    a,ns,alpha= params\n",
    "    return a+ns*ks+alpha*ks**.5\n",
    "\n",
    "def generateSims(params,nSims=1):\n",
    "    pk_mu = pk_theory(ks,params)\n",
    "    return  pk_mu+np.random.randn(nSims,nKs)*np.sqrt(2)*pk_mu\n",
    "\n",
    "def generateCovMat(params):\n",
    "    pk_mu = pk_theory(ks,params)\n",
    "    return np.diag(2*pk_mu**2)\n",
    "\n",
    "def theoretical_derivs(params):\n",
    "    pk_mu = pk_theory(ks,params)\n",
    "    nParams = len(params)\n",
    "    derivs_thry = np.zeros([nParams,nKs])\n",
    "    derivs_thry[0] = np.ones(nKs)\n",
    "    derivs_thry[1] = ks.copy()\n",
    "    derivs_thry[2] = np.sqrt(ks)\n",
    "    derivs_thry_covMat = np.zeros([nParams,nKs,nKs])\n",
    "    for i in range(nParams):\n",
    "        derivs_thry_covMat[i] = 4*np.diag(derivs_thry[i])*pk_mu\n",
    "    return derivs_thry,derivs_thry_covMat\n",
    "\n",
    "\n",
    "def generate_deriv_sims(paramter_names,params,deltaParams,nSims):\n",
    "    #a,ns,alpha,beta, gamma     = params\n",
    "    #d_a,d_ns,d_alpha,d_beta,d_gamma = deltaParams\n",
    "    deriv_sims = {}\n",
    "    state = np.random.get_state()\n",
    "    for i,name in enumerate(paramter_names):\n",
    "        derivs_ens = np.zeros([2,nSims,nKs])\n",
    "        params_plus = np.array(params)\n",
    "        params_plus[i]+=deltaParams[i]\n",
    "        \n",
    "        params_minus = np.array(params)\n",
    "        params_minus[i]-=deltaParams[i]\n",
    "          \n",
    "        np.random.set_state(state)\n",
    "        derivs_ens[0] = generateSims(params_minus,nSims)\n",
    "        np.random.set_state(state)  \n",
    "        derivs_ens[1] = generateSims(params_plus,nSims)\n",
    "        deriv_sims[name] = derivs_ens\n",
    "    return deriv_sims\n"
   ]
  },
  {
   "cell_type": "code",
   "execution_count": null,
   "id": "286bdb31",
   "metadata": {},
   "outputs": [],
   "source": [
    "\n"
   ]
  },
  {
   "cell_type": "code",
   "execution_count": 15,
   "id": "b1b54d26",
   "metadata": {},
   "outputs": [],
   "source": [
    "def fisherTheory(params):\n",
    "    derivs,derivs_covMat = theoretical_derivs(params)\n",
    "    covMat = generateCovMat(params)\n",
    "    nParams = len(params)\n",
    "    fisher = np.zeros([nParams,nParams])\n",
    "    for i in range(nParams):\n",
    "        tmp_a = (np.linalg.solve(covMat,derivs_covMat[i]))\n",
    "        for j in range(i+1):\n",
    "            tmp_b = (np.linalg.solve(covMat,derivs_covMat[j]))\n",
    "            tmp =  np.dot(derivs[i], np.linalg.solve(covMat,derivs[j]))\n",
    "            tmp+= .5*np.trace(np.dot(tmp_a,tmp_b))\n",
    "            fisher[i,j] = fisher[j,i] = tmp\n",
    "    return fisher\n"
   ]
  },
  {
   "cell_type": "code",
   "execution_count": null,
   "id": "a4c1e0f3",
   "metadata": {},
   "outputs": [],
   "source": []
  },
  {
   "cell_type": "code",
   "execution_count": null,
   "id": "f2b3d84f",
   "metadata": {},
   "outputs": [],
   "source": []
  },
  {
   "cell_type": "code",
   "execution_count": 16,
   "id": "8ef33d38",
   "metadata": {},
   "outputs": [],
   "source": [
    "params_fid = np.array([1,1,1.])\n",
    "delta_params = np.array([.1,.1,.1,])\n",
    "parameter_names = [r\"$\\alpha$\", r\"$\\beta$\", r\"$\\gamma$\"]\n",
    "dict_param_steps = {parameter_names[i]:delta_params[i] for i in range(len(params_fid))}"
   ]
  },
  {
   "cell_type": "code",
   "execution_count": 21,
   "id": "cb746697",
   "metadata": {},
   "outputs": [],
   "source": [
    "nSimsCovMat = 20000\n",
    "nSims_deriv = 300"
   ]
  },
  {
   "cell_type": "code",
   "execution_count": null,
   "id": "330be52d",
   "metadata": {},
   "outputs": [],
   "source": []
  },
  {
   "cell_type": "code",
   "execution_count": 22,
   "id": "383f585a",
   "metadata": {},
   "outputs": [
    {
     "name": "stdout",
     "output_type": "stream",
     "text": [
      "[[175.41970592   7.21981339  21.28027102]\n",
      " [  7.21981339   2.58493994   3.88768597]\n",
      " [ 21.28027102   3.88768597   7.21981339]]\n"
     ]
    }
   ],
   "source": [
    "\n",
    "fisher_true = fisherTheory(params_fid)\n",
    "print(fisher_true)"
   ]
  },
  {
   "cell_type": "code",
   "execution_count": null,
   "id": "c5e1e400",
   "metadata": {},
   "outputs": [],
   "source": []
  },
  {
   "cell_type": "code",
   "execution_count": 23,
   "id": "c4dfa800",
   "metadata": {},
   "outputs": [],
   "source": [
    "compress_frac_split = 0.5"
   ]
  },
  {
   "cell_type": "code",
   "execution_count": null,
   "id": "5ed5ff57",
   "metadata": {},
   "outputs": [],
   "source": []
  },
  {
   "cell_type": "code",
   "execution_count": 24,
   "id": "bbb432a3",
   "metadata": {},
   "outputs": [],
   "source": [
    "covmat_sims = generateSims(params_fid,nSimsCovMat)\n",
    "dict_deriv_sims = generate_deriv_sims(parameter_names,params_fid,delta_params,nSims=nSims_deriv)\n"
   ]
  },
  {
   "cell_type": "code",
   "execution_count": null,
   "id": "ff4d5cb9",
   "metadata": {},
   "outputs": [],
   "source": []
  },
  {
   "cell_type": "code",
   "execution_count": 25,
   "id": "357dcb33",
   "metadata": {},
   "outputs": [],
   "source": [
    "cFisher = CompressedFisher.gaussianFisher(parameter_names,nSims_deriv,include_deriv_covmat=True,deriv_spline_order=2)\n"
   ]
  },
  {
   "cell_type": "code",
   "execution_count": 26,
   "id": "1cf72ee3",
   "metadata": {},
   "outputs": [],
   "source": [
    "cFisher.initailize_covmat(covmat_sims)\n",
    "cFisher.initailize_mean(covmat_sims)\n",
    "cFisher.initailize_deriv_sims(dic_deriv_sims=dict_deriv_sims,dict_param_steps=dict_param_steps)\n"
   ]
  },
  {
   "cell_type": "code",
   "execution_count": 27,
   "id": "4036e584",
   "metadata": {},
   "outputs": [],
   "source": [
    "cFisher.generate_deriv_sim_splits(compress_frac_split)\n",
    "\n",
    "  "
   ]
  },
  {
   "cell_type": "code",
   "execution_count": 28,
   "id": "119d8a5c",
   "metadata": {},
   "outputs": [],
   "source": [
    "  \n",
    "stnd_constraint    = cFisher.compute_fisher_forecast(parameter_names)\n",
    "stnd_constraint_bias = cFisher.est_fisher_forecast_bias(parameter_names)\n",
    "\n",
    "\n",
    "compressed_constraint = cFisher.compute_compressed_fisher_forecast(parameter_names)\n",
    "compressed_constraint_bias = cFisher.est_compressed_fisher_forecast_bias(parameter_names)\n",
    "\n",
    "\n",
    "combined_constraint = cFisher.compute_combined_fisher_forecast(parameter_names)\n",
    "  "
   ]
  },
  {
   "cell_type": "code",
   "execution_count": null,
   "id": "c1bcbf2f",
   "metadata": {},
   "outputs": [],
   "source": []
  },
  {
   "cell_type": "code",
   "execution_count": 29,
   "id": "6bfb25e6",
   "metadata": {},
   "outputs": [
    {
     "name": "stdout",
     "output_type": "stream",
     "text": [
      "[0.09677426 1.50470023 1.06460152] [0.24736488 0.20662218 0.21237229]\n",
      "[0.13267178 1.9754265  1.38248325] [0.00595608 0.00458369 0.00460393]\n",
      "[0.11307502 1.72396989 1.21309323]\n"
     ]
    }
   ],
   "source": [
    "print(np.diag(stnd_constraint)**.5,np.diag(stnd_constraint_bias/stnd_constraint))\n",
    "print(np.diag(compressed_constraint)**.5,np.diag(compressed_constraint_bias/compressed_constraint))\n",
    "print(np.diag(combined_constraint)**.5)\n",
    "print(np.diag(np.linalg.inv(fisher_true))**.5)\n"
   ]
  },
  {
   "cell_type": "code",
   "execution_count": null,
   "id": "e903b07e",
   "metadata": {},
   "outputs": [],
   "source": []
  },
  {
   "cell_type": "code",
   "execution_count": 30,
   "id": "1af7d144",
   "metadata": {},
   "outputs": [
    {
     "name": "stdout",
     "output_type": "stream",
     "text": [
      "30.0 \n",
      " [0.06885094 1.11661237 0.78090149] \n",
      " [0.0095193  0.15224346 0.10016231]\n",
      "60.0 \n",
      " [0.08432851 1.33853698 0.93525833] \n",
      " [0.01171132 0.18475527 0.13098208]\n",
      "100.0 \n",
      " [0.09259461 1.45383354 1.02769777] \n",
      " [0.01222272 0.1953571  0.11897196]\n",
      "120.0 \n",
      " [0.09470302 1.4765519  1.04023043] \n",
      " [0.0088487  0.30357443 0.16155344]\n",
      "150.0 \n",
      " [0.09733408 1.52939046 1.07404515] \n",
      " [0.01432821 0.29981204 0.18710356]\n",
      "300.0 \n",
      " [0.104528   1.61763075 1.13709585] \n",
      " [0. 0. 0.]\n",
      "30.0 \n",
      " [0.25929096 3.54733468 2.58159798] \n",
      " [0.07771436 0.99625875 0.5934303 ]\n",
      "60.0 \n",
      " [0.18804001 2.77117163 1.88429682] \n",
      " [0.03168164 0.37362971 0.36313045]\n",
      "100.0 \n",
      " [0.16751989 2.38469813 1.64813622] \n",
      " [0.02528462 0.21247888 0.32615605]\n",
      "120.0 \n",
      " [0.15602235 2.31439488 1.61272544] \n",
      " [0.02562668 0.48437668 0.13269606]\n",
      "150.0 \n",
      " [0.14627429 2.21027226 1.52787615] \n",
      " [0.01565237 0.38768233 0.26356027]\n",
      "300.0 \n",
      " [0.13312442 2.02146687 1.39830637] \n",
      " [0. 0. 0.]\n",
      "30.0 \n",
      " [0.11504086 1.71996147 1.23139905] \n",
      " [0.02282568 0.34519708 0.22653767]\n",
      "60.0 \n",
      " [0.11377227 1.76348416 1.22035339] \n",
      " [0.01635064 0.35339226 0.1691205 ]\n",
      "100.0 \n",
      " [0.11388433 1.72634644 1.21135605] \n",
      " [0.01240879 0.16334409 0.09204536]\n",
      "120.0 \n",
      " [0.11360571 1.72299769 1.21650364] \n",
      " [0.00835482 0.26773458 0.15189794]\n",
      "150.0 \n",
      " [0.11388377 1.74045963 1.22293258] \n",
      " [0.0035302  0.12957142 0.12986129]\n",
      "300.0 \n",
      " [0.11334567 1.72563656 1.21429271] \n",
      " [0. 0. 0.]\n"
     ]
    }
   ],
   "source": [
    "      \n",
    "std_nsim, std_mns,std_stds = cFisher.run_fisher_deriv_stablity_test(parameter_names,)\n",
    "\n",
    "comp_nsim, comp_mns,comp_stds = cFisher.run_compressed_fisher_deriv_stablity_test(parameter_names,compress_frac_split)\n",
    "geom_nsim, geom_mns,geom_stds = cFisher.run_combined_fisher_deriv_stablity_test(parameter_names,compress_frac_split)\n"
   ]
  },
  {
   "cell_type": "code",
   "execution_count": null,
   "id": "56d1d95c",
   "metadata": {},
   "outputs": [],
   "source": []
  },
  {
   "cell_type": "code",
   "execution_count": 32,
   "id": "b79cba17",
   "metadata": {},
   "outputs": [
    {
     "data": {
      "image/png": "[encoded data removed]",
      "text/plain": [
       "<Figure size 432x288 with 1 Axes>"
      ]
     },
     "metadata": {
      "needs_background": "light"
     },
     "output_type": "display_data"
    },
    {
     "data": {
      "image/png": "[encoded data removed]",
      "text/plain": [
       "<Figure size 432x288 with 1 Axes>"
      ]
     },
     "metadata": {
      "needs_background": "light"
     },
     "output_type": "display_data"
    },
    {
     "data": {
      "image/png": "[encoded data removed]",
      "text/plain": [
       "<Figure size 432x288 with 1 Axes>"
      ]
     },
     "metadata": {
      "needs_background": "light"
     },
     "output_type": "display_data"
    }
   ],
   "source": [
    "\n",
    "for i,p in enumerate(parameter_names):\n",
    "    plt.errorbar(std_nsim/std_nsim[-1],std_mns[:,i,i]**.5/std_mns[-1,i,i]**.5,yerr=std_stds[:,i,i]**.5/std_mns[-1,i,i]**.5,label=parameter_names[i])\n",
    "#plt.plot(geom_nsim/geom_nsim[-1],(geom_nsim/geom_nsim[-1])**.5,scaley=False,color='k',alpha=.5,linestyle=':')\n",
    "\n",
    "plt.legend()\n",
    "plt.show()\n",
    "\n",
    "for i,p in enumerate(parameter_names):\n",
    "    plt.errorbar(comp_nsim/comp_nsim[-1],comp_mns[:,i,i]**.5/comp_mns[-1,i,i]**.5,yerr=comp_stds[:,i,i]**.5/comp_mns[-1,i,i]**.5,label=parameter_names[i])\n",
    "#plt.plot(geom_nsim/geom_nsim[-1],(geom_nsim/geom_nsim[-1])**.5,scaley=False,color='k',alpha=.5,linestyle=':')\n",
    "\n",
    "plt.legend()\n",
    "plt.ylim([.7,3])\n",
    "plt.show()\n",
    "\n",
    "for i,p in enumerate(parameter_names):\n",
    "    plt.errorbar(geom_nsim/geom_nsim[-1],geom_mns[:,i,i]**.5/geom_mns[-1,i,i]**.5,yerr=geom_stds[:,i,i]**.5/geom_mns[-1,i,i]**.5,label=parameter_names[i])\n",
    "#plt.plot(geom_nsim/geom_nsim[-1],(geom_nsim/geom_nsim[-1])**.5,scaley=False,color='k',alpha=.5,linestyle=':')\n",
    "plt.legend()\n",
    "plt.ylim([.25,2])\n",
    "plt.show()\n",
    "#plt.yscale('log')\n",
    "#plt.yscale('log')"
   ]
  },
  {
   "cell_type": "code",
   "execution_count": null,
   "id": "6713fb99",
   "metadata": {},
   "outputs": [],
   "source": []
  },
  {
   "cell_type": "code",
   "execution_count": null,
   "id": "1e204e69",
   "metadata": {},
   "outputs": [],
   "source": [
    "\n",
    "stnd_fisher     = cFisher._compute_fisher_matrix(parameter_names)\n",
    "stnd_fisher_err     = cFisher._compute_fisher_matrix_error(parameter_names)\n",
    "\n",
    "\n",
    "compressed_fisher  = cFisher._compute_compressed_fisher_matrix(parameter_names)\n",
    "compressed_fisher_err  = cFisher._compute_compressed_fisher_matrix_error(parameter_names)\n",
    "\n",
    "\n",
    "combined_fisher = cFisher._compute_combined_fisher_matrix(parameter_names)"
   ]
  },
  {
   "cell_type": "code",
   "execution_count": null,
   "id": "5a012ef4",
   "metadata": {},
   "outputs": [],
   "source": []
  },
  {
   "cell_type": "code",
   "execution_count": null,
   "id": "58b667c1",
   "metadata": {},
   "outputs": [],
   "source": []
  }
 ],
 "metadata": {
  "kernelspec": {
   "display_name": "PNG",
   "language": "python",
   "name": "png"
  },
  "language_info": {
   "codemirror_mode": {
    "name": "ipython",
    "version": 3
   },
   "file_extension": ".py",
   "mimetype": "text/x-python",
   "name": "python",
   "nbconvert_exporter": "python",
   "pygments_lexer": "ipython3",
   "version": "3.8.12"
  }
 },
 "nbformat": 4,
 "nbformat_minor": 5
}
